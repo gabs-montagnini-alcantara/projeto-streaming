{
 "cells": [
  {
   "cell_type": "code",
   "execution_count": null,
   "id": "a4faa0c4",
   "metadata": {
    "vscode": {
     "languageId": "plaintext"
    }
   },
   "outputs": [],
   "source": [
    "%flink.ssql\n",
    "\n",
    "CREATE TABLE input_stream_kinesis (\n",
    "  nome STRING,\n",
    "  valor DOUBLE,\n",
    "  `timestamp` TIMESTAMP(3),\n",
    "  texto STRING,\n",
    "  WATERMARK FOR `timestamp` AS `timestamp` - INTERVAL '5' SECOND\n",
    ") WITH (\n",
    "  'connector' = 'kinesis',\n",
    "  'stream' = 'kinesis-data-streams-projeto-27abd',\n",
    "  'aws.region' = 'us-east-1',\n",
    "  'scan.stream.initpos' = 'LATEST',\n",
    "  'format' = 'json',\n",
    "  'json.timestamp-format.standard' = 'ISO-8601'\n",
    ");"
   ]
  },
  {
   "cell_type": "code",
   "execution_count": null,
   "id": "2df360cc",
   "metadata": {
    "vscode": {
     "languageId": "plaintext"
    }
   },
   "outputs": [],
   "source": [
    "%flink.ssql\n",
    "SELECT \n",
    "  window_start,\n",
    "  window_end,\n",
    "  nome,\n",
    "  round(soma_valor) as soma_valor_ultima_janela\n",
    "FROM (\n",
    "  SELECT\n",
    "    TUMBLE_START(PROCTIME(), INTERVAL '10' SECOND) AS window_start,\n",
    "    TUMBLE_END(PROCTIME(), INTERVAL '10' SECOND) AS window_end,\n",
    "    nome,\n",
    "    SUM(valor) AS soma_valor\n",
    "  FROM input_stream_kinesis\n",
    "--   WHERE nome = 'Gabriel'\n",
    "  GROUP BY\n",
    "    TUMBLE(PROCTIME(), INTERVAL '10' SECOND),\n",
    "    nome\n",
    ")\n",
    "ORDER BY window_end DESC\n",
    "LIMIT 5;"
   ]
  }
 ],
 "metadata": {
  "language_info": {
   "name": "python"
  }
 },
 "nbformat": 4,
 "nbformat_minor": 5
}
